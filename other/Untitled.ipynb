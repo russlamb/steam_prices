{
 "cells": [
  {
   "cell_type": "code",
   "execution_count": 15,
   "metadata": {
    "collapsed": false
   },
   "outputs": [
    {
     "name": "stdout",
     "output_type": "stream",
     "text": [
      "Reading pickle... 2017-03-04 20:25:55.043689\n",
      "Done\n"
     ]
    },
    {
     "data": {
      "text/html": [
       "<div>\n",
       "<table border=\"1\" class=\"dataframe\">\n",
       "  <thead>\n",
       "    <tr style=\"text-align: right;\">\n",
       "      <th></th>\n",
       "      <th></th>\n",
       "      <th></th>\n",
       "      <th>trades</th>\n",
       "      <th>probability</th>\n",
       "      <th>app_id</th>\n",
       "    </tr>\n",
       "    <tr>\n",
       "      <th>app_name</th>\n",
       "      <th>item_name</th>\n",
       "      <th>price</th>\n",
       "      <th></th>\n",
       "      <th></th>\n",
       "      <th></th>\n",
       "    </tr>\n",
       "  </thead>\n",
       "  <tbody>\n",
       "    <tr>\n",
       "      <th rowspan=\"5\" valign=\"top\">2064: Read Only Memories</th>\n",
       "      <th rowspan=\"4\" valign=\"top\">330820-Jess Meas</th>\n",
       "      <th>0.03</th>\n",
       "      <td>180</td>\n",
       "      <td>41.763341</td>\n",
       "      <td>330820</td>\n",
       "    </tr>\n",
       "    <tr>\n",
       "      <th>0.04</th>\n",
       "      <td>64</td>\n",
       "      <td>14.849188</td>\n",
       "      <td>330820</td>\n",
       "    </tr>\n",
       "    <tr>\n",
       "      <th>0.05</th>\n",
       "      <td>182</td>\n",
       "      <td>42.227378</td>\n",
       "      <td>330820</td>\n",
       "    </tr>\n",
       "    <tr>\n",
       "      <th>0.06</th>\n",
       "      <td>5</td>\n",
       "      <td>1.160093</td>\n",
       "      <td>330820</td>\n",
       "    </tr>\n",
       "    <tr>\n",
       "      <th>330820-Lexi Rivers</th>\n",
       "      <th>0.03</th>\n",
       "      <td>167</td>\n",
       "      <td>42.710997</td>\n",
       "      <td>330820</td>\n",
       "    </tr>\n",
       "  </tbody>\n",
       "</table>\n",
       "</div>"
      ],
      "text/plain": [
       "                                                   trades  probability  app_id\n",
       "app_name                 item_name          price                             \n",
       "2064: Read Only Memories 330820-Jess Meas   0.03      180    41.763341  330820\n",
       "                                            0.04       64    14.849188  330820\n",
       "                                            0.05      182    42.227378  330820\n",
       "                                            0.06        5     1.160093  330820\n",
       "                         330820-Lexi Rivers 0.03      167    42.710997  330820"
      ]
     },
     "execution_count": 15,
     "metadata": {},
     "output_type": "execute_result"
    }
   ],
   "source": [
    "import steam_load as sl\n",
    "\n",
    "df=sl.load_price_pickle()\n",
    "\n",
    "df=df.reset_index()\n",
    "df=df.rename(columns={\"index\":\"price\"})\n",
    "df=df.set_index([\"app_name\",\"item_name\",\"price\"]).sort_index()\n",
    "df.head(5)"
   ]
  },
  {
   "cell_type": "code",
   "execution_count": null,
   "metadata": {
    "collapsed": false
   },
   "outputs": [],
   "source": []
  },
  {
   "cell_type": "code",
   "execution_count": null,
   "metadata": {
    "collapsed": false
   },
   "outputs": [],
   "source": []
  },
  {
   "cell_type": "code",
   "execution_count": null,
   "metadata": {
    "collapsed": true
   },
   "outputs": [],
   "source": []
  }
 ],
 "metadata": {
  "anaconda-cloud": {},
  "kernelspec": {
   "display_name": "Python [conda env:p3.5]",
   "language": "python",
   "name": "conda-env-p3.5-py"
  },
  "language_info": {
   "codemirror_mode": {
    "name": "ipython",
    "version": 3
   },
   "file_extension": ".py",
   "mimetype": "text/x-python",
   "name": "python",
   "nbconvert_exporter": "python",
   "pygments_lexer": "ipython3",
   "version": "3.5.2"
  }
 },
 "nbformat": 4,
 "nbformat_minor": 1
}
